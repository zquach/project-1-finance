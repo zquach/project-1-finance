{
 "cells": [
  {
   "cell_type": "code",
   "execution_count": null,
   "id": "206d6cc0",
   "metadata": {},
   "outputs": [],
   "source": [
    "# Import dependencies\n"
   ]
  },
  {
   "cell_type": "code",
   "execution_count": null,
   "id": "f660e193",
   "metadata": {},
   "outputs": [],
   "source": [
    "# Load Datasets\n",
    "\n",
    "#Stock dataset\n",
    "\n",
    "# Crypto dataset"
   ]
  },
  {
   "cell_type": "code",
   "execution_count": null,
   "id": "8e1fce9e",
   "metadata": {},
   "outputs": [],
   "source": [
    "# Read Datasets and store into DataFrames\n",
    "\n"
   ]
  },
  {
   "cell_type": "code",
   "execution_count": null,
   "id": "f4632e54",
   "metadata": {},
   "outputs": [],
   "source": [
    "# Clean data. Handle missing values, format date columns, erase null rows or columns. \n",
    "# Standardize the format for date columns (both datasets use the same YYYY-MM-DD format for dates)\n",
    "\n"
   ]
  },
  {
   "cell_type": "code",
   "execution_count": null,
   "id": "f07e34a0",
   "metadata": {},
   "outputs": [],
   "source": [
    "# Combine the data into a single dataset.\n",
    "\n"
   ]
  },
  {
   "cell_type": "code",
   "execution_count": null,
   "id": "26de9ccb",
   "metadata": {},
   "outputs": [],
   "source": [
    "** Question 1: What are stock trends in Big Tech before covid (2018), during  COVID (2020) and the present (2024) **"
   ]
  },
  {
   "cell_type": "code",
   "execution_count": null,
   "id": "9f6c3844",
   "metadata": {},
   "outputs": [],
   "source": [
    "# Create a subset of the stock data from the years 2018 to 2024.\n",
    "# Stocks to analize: S&P500, FAANG (Meta, Apple, Amazon, Google)\n",
    "\n"
   ]
  },
  {
   "cell_type": "code",
   "execution_count": null,
   "id": "cd57f956",
   "metadata": {},
   "outputs": [],
   "source": [
    "# Calculate percentage changes year-over-year for the selected stock data.\n",
    "\n"
   ]
  },
  {
   "cell_type": "code",
   "execution_count": null,
   "id": "0d196b5a",
   "metadata": {},
   "outputs": [],
   "source": [
    "# Create a line plot to visualize stock trends from 2018 to 2024.\n",
    "\n"
   ]
  },
  {
   "cell_type": "code",
   "execution_count": null,
   "id": "3679ea3f",
   "metadata": {},
   "outputs": [],
   "source": [
    "# Plot 1: Line plot showing stock prices over time.\n",
    "\n"
   ]
  },
  {
   "cell_type": "code",
   "execution_count": null,
   "id": "d5e61171",
   "metadata": {},
   "outputs": [],
   "source": [
    "# Plot 2: Bar chart comparing percentage changes for 2018, 2020, and 2024."
   ]
  },
  {
   "cell_type": "code",
   "execution_count": null,
   "id": "ba1b9090",
   "metadata": {},
   "outputs": [],
   "source": [
    "** Question 2: What are trends in the cryptocurrency market before covid (2018), during  COVID (2020) and the present (2024)"
   ]
  },
  {
   "cell_type": "code",
   "execution_count": null,
   "id": "1fe956ed",
   "metadata": {},
   "outputs": [],
   "source": [
    "# Create a subset of the cryptocurrency data for 2018 and 2024.\n",
    "\n"
   ]
  },
  {
   "cell_type": "code",
   "execution_count": null,
   "id": "5c14eb32",
   "metadata": {},
   "outputs": [],
   "source": [
    "# Calculate the percentage changes in cryptocurrency values from 2018 to 2024.\n",
    "\n"
   ]
  },
  {
   "cell_type": "code",
   "execution_count": null,
   "id": "ebd1cbae",
   "metadata": {},
   "outputs": [],
   "source": [
    "# Create a line plot to visualize cryptocurrency trends.\n",
    "\n"
   ]
  },
  {
   "cell_type": "code",
   "execution_count": null,
   "id": "c30f1b9f",
   "metadata": {},
   "outputs": [],
   "source": [
    "# Line plot showing cryptocurrency prices for 2018 and 2024.\n",
    "\n"
   ]
  },
  {
   "cell_type": "code",
   "execution_count": null,
   "id": "5baae8e5",
   "metadata": {},
   "outputs": [],
   "source": [
    "# Bar chart comparing percentage changes between the selected cryptocurrencies.\n",
    "\n"
   ]
  },
  {
   "cell_type": "code",
   "execution_count": null,
   "id": "9a2ea30a",
   "metadata": {},
   "outputs": [],
   "source": [
    "** Question 3: What are trends in the Pharma stocks before covid (2018), during  COVID (2020) and the present (2024)"
   ]
  },
  {
   "cell_type": "code",
   "execution_count": null,
   "id": "a502fdca",
   "metadata": {},
   "outputs": [],
   "source": [
    "# Create a subset of pharma companies (Pfizer & Moderna) stock data for 2018 and 2024.\n",
    "\n"
   ]
  },
  {
   "cell_type": "code",
   "execution_count": null,
   "id": "8d0b8baa",
   "metadata": {},
   "outputs": [],
   "source": [
    "# Calculate the percentage changes in pharma stock values from 2018 to 2024.\n",
    "\n"
   ]
  },
  {
   "cell_type": "code",
   "execution_count": null,
   "id": "97f3d6d7",
   "metadata": {},
   "outputs": [],
   "source": [
    "# # Create a line plot to visualize pharma stock trends.\n",
    "\n"
   ]
  },
  {
   "cell_type": "code",
   "execution_count": null,
   "id": "31204bc8",
   "metadata": {},
   "outputs": [],
   "source": [
    "# Line plot showing pharma stock prices for 2018 and 2024.\n",
    "\n"
   ]
  },
  {
   "cell_type": "code",
   "execution_count": null,
   "id": "ac9da9c6",
   "metadata": {},
   "outputs": [],
   "source": [
    "# Bar chart comparing percentage changes between the selected pharma stocks.\n",
    "\n"
   ]
  },
  {
   "cell_type": "code",
   "execution_count": null,
   "id": "ae899022",
   "metadata": {},
   "outputs": [],
   "source": [
    "** Question 4: Are there similarities in trends between the three markets?"
   ]
  },
  {
   "cell_type": "code",
   "execution_count": null,
   "id": "9d4d56f5",
   "metadata": {},
   "outputs": [],
   "source": [
    "# Create a correlation matrix between stock and cryptocurrency data.\n",
    "# Merge both datasets on the date column. This ensures that each date has corresponding stock and cryptocurrency values.\n",
    "# Use an inner join to keep only the dates present in both datasets.\n",
    "\n"
   ]
  },
  {
   "cell_type": "code",
   "execution_count": null,
   "id": "2f8a41ba",
   "metadata": {},
   "outputs": [],
   "source": [
    "# Calculate the Correlation Matrix\n",
    "# Use the .corr() method from pandas to compute the correlation matrix between the stock and cryptocurrency columns.\n",
    "\n"
   ]
  },
  {
   "cell_type": "code",
   "execution_count": null,
   "id": "9a716b8d",
   "metadata": {},
   "outputs": [],
   "source": [
    "# Analyze correlations and identify patterns between the two markets.\n",
    "\n"
   ]
  },
  {
   "cell_type": "code",
   "execution_count": null,
   "id": "974e85c4",
   "metadata": {},
   "outputs": [],
   "source": [
    "# Create S\\scatter plot of Tech vs. Pharma vs. crypto prices.\n",
    "\n"
   ]
  },
  {
   "cell_type": "code",
   "execution_count": null,
   "id": "4cab4ce5",
   "metadata": {},
   "outputs": [],
   "source": [
    "# Create Heatmap showing correlations between the markets.\n",
    "\n"
   ]
  },
  {
   "cell_type": "code",
   "execution_count": null,
   "id": "65c0c9f8",
   "metadata": {},
   "outputs": [],
   "source": [
    "** Question 5: Impact of COVID on Stocks and Cryptos"
   ]
  },
  {
   "cell_type": "code",
   "execution_count": null,
   "id": "8bd17603",
   "metadata": {},
   "outputs": [],
   "source": [
    "# Identify which stocks and cryptocurrencies dropped the most in 2020.\n",
    "\n",
    "# Subset the Data for 2020 to 2022?\n",
    "\n",
    "# Determine Percentage Drop or Max drop (express in %)\n",
    "\n",
    "# Rank Assets by Decline\n",
    "\n"
   ]
  },
  {
   "cell_type": "code",
   "execution_count": null,
   "id": "8c8a0696",
   "metadata": {},
   "outputs": [],
   "source": [
    "# Create Plot 7: chart showing the biggest stock and crypto drops.\n",
    "\n"
   ]
  },
  {
   "cell_type": "code",
   "execution_count": null,
   "id": "b9703487",
   "metadata": {},
   "outputs": [],
   "source": [
    "# Create Plot 8: chart comparing recovery rates of the worst-performing assets.\n",
    "\n"
   ]
  },
  {
   "cell_type": "code",
   "execution_count": null,
   "id": "d7f1b11e",
   "metadata": {},
   "outputs": [],
   "source": [
    "# Calculate Recovery Rates for Stocks and Cryptos From 2020 to 2022?\n",
    "\n",
    "# Subset the Data for 2020 to 2022?\n",
    "\n",
    "# Calculate Recovery Rates (lowest point vs stock price at the end of subset)\n",
    "\n",
    "# Rank Assets by Recovery"
   ]
  },
  {
   "cell_type": "code",
   "execution_count": null,
   "id": "af7e446a",
   "metadata": {},
   "outputs": [],
   "source": [
    "# Create plot comparing stock and crypto recovery.\n",
    "\n"
   ]
  },
  {
   "cell_type": "code",
   "execution_count": null,
   "id": "a45365dd",
   "metadata": {},
   "outputs": [],
   "source": [
    "# Create chart showing the recovery percentage for selected assets.\n",
    "\n"
   ]
  },
  {
   "cell_type": "code",
   "execution_count": null,
   "id": "319f7ca5",
   "metadata": {},
   "outputs": [],
   "source": [
    "** Question 6: Volatility of Cryptocurrencies. \n",
    "** Are cryptocurrencies more prone to extreme price swings than traditional stocks during global events?"
   ]
  },
  {
   "cell_type": "code",
   "execution_count": null,
   "id": "80c2656e",
   "metadata": {},
   "outputs": [],
   "source": [
    "# Calculate the volatility (standard deviation) of selected cryptocurrencies and stocks.\n",
    "\n"
   ]
  },
  {
   "cell_type": "code",
   "execution_count": null,
   "id": "c2b2ccbd",
   "metadata": {},
   "outputs": [],
   "source": [
    "# Create a box plot to show the volatility distribution.\n",
    "\n"
   ]
  },
  {
   "cell_type": "code",
   "execution_count": null,
   "id": "5e3fb393",
   "metadata": {},
   "outputs": [],
   "source": [
    "#  Line plot showing volatility over time.\n",
    "\n"
   ]
  },
  {
   "cell_type": "code",
   "execution_count": null,
   "id": "134c7f57",
   "metadata": {},
   "outputs": [],
   "source": [
    "** Question 8: Best Investment Pre, During, and Post-COVID"
   ]
  }
 ],
 "metadata": {
  "kernelspec": {
   "display_name": "Python 3 (ipykernel)",
   "language": "python",
   "name": "python3"
  },
  "language_info": {
   "codemirror_mode": {
    "name": "ipython",
    "version": 3
   },
   "file_extension": ".py",
   "mimetype": "text/x-python",
   "name": "python",
   "nbconvert_exporter": "python",
   "pygments_lexer": "ipython3",
   "version": "3.10.14"
  }
 },
 "nbformat": 4,
 "nbformat_minor": 5
}
